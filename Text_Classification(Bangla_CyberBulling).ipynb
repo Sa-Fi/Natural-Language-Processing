{
  "nbformat": 4,
  "nbformat_minor": 0,
  "metadata": {
    "colab": {
      "provenance": [],
      "authorship_tag": "ABX9TyMBq0JVfoy5QPbJreAblA58",
      "include_colab_link": true
    },
    "kernelspec": {
      "name": "python3",
      "display_name": "Python 3"
    },
    "language_info": {
      "name": "python"
    }
  },
  "cells": [
    {
      "cell_type": "markdown",
      "metadata": {
        "id": "view-in-github",
        "colab_type": "text"
      },
      "source": [
        "<a href=\"https://colab.research.google.com/github/Sa-Fi/Natural-Language-Processing/blob/main/Text_Classification(Bangla_CyberBulling).ipynb\" target=\"_parent\"><img src=\"https://colab.research.google.com/assets/colab-badge.svg\" alt=\"Open In Colab\"/></a>"
      ]
    },
    {
      "cell_type": "code",
      "execution_count": null,
      "metadata": {
        "colab": {
          "base_uri": "https://localhost:8080/",
          "height": 90
        },
        "id": "MLOwNoQuOHnF",
        "outputId": "aec03084-c41f-43e0-bc9c-a5c5ed7a2a08"
      },
      "outputs": [
        {
          "output_type": "display_data",
          "data": {
            "text/plain": [
              "<IPython.core.display.HTML object>"
            ],
            "text/html": [
              "\n",
              "     <input type=\"file\" id=\"files-a920184a-7555-46fe-a143-7123a816adc4\" name=\"files[]\" multiple disabled\n",
              "        style=\"border:none\" />\n",
              "     <output id=\"result-a920184a-7555-46fe-a143-7123a816adc4\">\n",
              "      Upload widget is only available when the cell has been executed in the\n",
              "      current browser session. Please rerun this cell to enable.\n",
              "      </output>\n",
              "      <script>// Copyright 2017 Google LLC\n",
              "//\n",
              "// Licensed under the Apache License, Version 2.0 (the \"License\");\n",
              "// you may not use this file except in compliance with the License.\n",
              "// You may obtain a copy of the License at\n",
              "//\n",
              "//      http://www.apache.org/licenses/LICENSE-2.0\n",
              "//\n",
              "// Unless required by applicable law or agreed to in writing, software\n",
              "// distributed under the License is distributed on an \"AS IS\" BASIS,\n",
              "// WITHOUT WARRANTIES OR CONDITIONS OF ANY KIND, either express or implied.\n",
              "// See the License for the specific language governing permissions and\n",
              "// limitations under the License.\n",
              "\n",
              "/**\n",
              " * @fileoverview Helpers for google.colab Python module.\n",
              " */\n",
              "(function(scope) {\n",
              "function span(text, styleAttributes = {}) {\n",
              "  const element = document.createElement('span');\n",
              "  element.textContent = text;\n",
              "  for (const key of Object.keys(styleAttributes)) {\n",
              "    element.style[key] = styleAttributes[key];\n",
              "  }\n",
              "  return element;\n",
              "}\n",
              "\n",
              "// Max number of bytes which will be uploaded at a time.\n",
              "const MAX_PAYLOAD_SIZE = 100 * 1024;\n",
              "\n",
              "function _uploadFiles(inputId, outputId) {\n",
              "  const steps = uploadFilesStep(inputId, outputId);\n",
              "  const outputElement = document.getElementById(outputId);\n",
              "  // Cache steps on the outputElement to make it available for the next call\n",
              "  // to uploadFilesContinue from Python.\n",
              "  outputElement.steps = steps;\n",
              "\n",
              "  return _uploadFilesContinue(outputId);\n",
              "}\n",
              "\n",
              "// This is roughly an async generator (not supported in the browser yet),\n",
              "// where there are multiple asynchronous steps and the Python side is going\n",
              "// to poll for completion of each step.\n",
              "// This uses a Promise to block the python side on completion of each step,\n",
              "// then passes the result of the previous step as the input to the next step.\n",
              "function _uploadFilesContinue(outputId) {\n",
              "  const outputElement = document.getElementById(outputId);\n",
              "  const steps = outputElement.steps;\n",
              "\n",
              "  const next = steps.next(outputElement.lastPromiseValue);\n",
              "  return Promise.resolve(next.value.promise).then((value) => {\n",
              "    // Cache the last promise value to make it available to the next\n",
              "    // step of the generator.\n",
              "    outputElement.lastPromiseValue = value;\n",
              "    return next.value.response;\n",
              "  });\n",
              "}\n",
              "\n",
              "/**\n",
              " * Generator function which is called between each async step of the upload\n",
              " * process.\n",
              " * @param {string} inputId Element ID of the input file picker element.\n",
              " * @param {string} outputId Element ID of the output display.\n",
              " * @return {!Iterable<!Object>} Iterable of next steps.\n",
              " */\n",
              "function* uploadFilesStep(inputId, outputId) {\n",
              "  const inputElement = document.getElementById(inputId);\n",
              "  inputElement.disabled = false;\n",
              "\n",
              "  const outputElement = document.getElementById(outputId);\n",
              "  outputElement.innerHTML = '';\n",
              "\n",
              "  const pickedPromise = new Promise((resolve) => {\n",
              "    inputElement.addEventListener('change', (e) => {\n",
              "      resolve(e.target.files);\n",
              "    });\n",
              "  });\n",
              "\n",
              "  const cancel = document.createElement('button');\n",
              "  inputElement.parentElement.appendChild(cancel);\n",
              "  cancel.textContent = 'Cancel upload';\n",
              "  const cancelPromise = new Promise((resolve) => {\n",
              "    cancel.onclick = () => {\n",
              "      resolve(null);\n",
              "    };\n",
              "  });\n",
              "\n",
              "  // Wait for the user to pick the files.\n",
              "  const files = yield {\n",
              "    promise: Promise.race([pickedPromise, cancelPromise]),\n",
              "    response: {\n",
              "      action: 'starting',\n",
              "    }\n",
              "  };\n",
              "\n",
              "  cancel.remove();\n",
              "\n",
              "  // Disable the input element since further picks are not allowed.\n",
              "  inputElement.disabled = true;\n",
              "\n",
              "  if (!files) {\n",
              "    return {\n",
              "      response: {\n",
              "        action: 'complete',\n",
              "      }\n",
              "    };\n",
              "  }\n",
              "\n",
              "  for (const file of files) {\n",
              "    const li = document.createElement('li');\n",
              "    li.append(span(file.name, {fontWeight: 'bold'}));\n",
              "    li.append(span(\n",
              "        `(${file.type || 'n/a'}) - ${file.size} bytes, ` +\n",
              "        `last modified: ${\n",
              "            file.lastModifiedDate ? file.lastModifiedDate.toLocaleDateString() :\n",
              "                                    'n/a'} - `));\n",
              "    const percent = span('0% done');\n",
              "    li.appendChild(percent);\n",
              "\n",
              "    outputElement.appendChild(li);\n",
              "\n",
              "    const fileDataPromise = new Promise((resolve) => {\n",
              "      const reader = new FileReader();\n",
              "      reader.onload = (e) => {\n",
              "        resolve(e.target.result);\n",
              "      };\n",
              "      reader.readAsArrayBuffer(file);\n",
              "    });\n",
              "    // Wait for the data to be ready.\n",
              "    let fileData = yield {\n",
              "      promise: fileDataPromise,\n",
              "      response: {\n",
              "        action: 'continue',\n",
              "      }\n",
              "    };\n",
              "\n",
              "    // Use a chunked sending to avoid message size limits. See b/62115660.\n",
              "    let position = 0;\n",
              "    do {\n",
              "      const length = Math.min(fileData.byteLength - position, MAX_PAYLOAD_SIZE);\n",
              "      const chunk = new Uint8Array(fileData, position, length);\n",
              "      position += length;\n",
              "\n",
              "      const base64 = btoa(String.fromCharCode.apply(null, chunk));\n",
              "      yield {\n",
              "        response: {\n",
              "          action: 'append',\n",
              "          file: file.name,\n",
              "          data: base64,\n",
              "        },\n",
              "      };\n",
              "\n",
              "      let percentDone = fileData.byteLength === 0 ?\n",
              "          100 :\n",
              "          Math.round((position / fileData.byteLength) * 100);\n",
              "      percent.textContent = `${percentDone}% done`;\n",
              "\n",
              "    } while (position < fileData.byteLength);\n",
              "  }\n",
              "\n",
              "  // All done.\n",
              "  yield {\n",
              "    response: {\n",
              "      action: 'complete',\n",
              "    }\n",
              "  };\n",
              "}\n",
              "\n",
              "scope.google = scope.google || {};\n",
              "scope.google.colab = scope.google.colab || {};\n",
              "scope.google.colab._files = {\n",
              "  _uploadFiles,\n",
              "  _uploadFilesContinue,\n",
              "};\n",
              "})(self);\n",
              "</script> "
            ]
          },
          "metadata": {}
        },
        {
          "output_type": "stream",
          "name": "stdout",
          "text": [
            "Saving CyberBulling_Dataset_Bangla.xlsx to CyberBulling_Dataset_Bangla.xlsx\n"
          ]
        }
      ],
      "source": [
        "from google.colab import files\n",
        "uploaded = files.upload()"
      ]
    },
    {
      "cell_type": "code",
      "source": [
        "import pandas as pd\n",
        "import numpy as np"
      ],
      "metadata": {
        "id": "nVKctb8ROZXZ"
      },
      "execution_count": null,
      "outputs": []
    },
    {
      "cell_type": "code",
      "source": [
        "df = pd.read_excel('CyberBulling_Dataset_Bangla.xlsx', index_col=0)\n",
        "df"
      ],
      "metadata": {
        "colab": {
          "base_uri": "https://localhost:8080/",
          "height": 424
        },
        "id": "9QCs7mOPOcJT",
        "outputId": "ac8faeb9-338e-4e39-cb70-1328b4725521"
      },
      "execution_count": null,
      "outputs": [
        {
          "output_type": "execute_result",
          "data": {
            "text/plain": [
              "                                            Description    Label\n",
              "0     ওই হালার পুত এখন কি মদ খাওয়ার সময় রাতের বেলা...   sexual\n",
              "1     আপনার জন্ম প্রক্রিয়ার সময় আপনার মায়ের ভিতর কি ...   sexual\n",
              "2     ধজভংগ দের আর ভায়াগ্রা লাগবো না। ধংস হোক এই সব ...   sexual\n",
              "3                                        বোকাচোদা একটা।   sexual\n",
              "4     তোর দেশে ফেরার অপেক্ষায় রইলাম। জেলে একটা কামরা...   sexual\n",
              "...                                                 ...      ...\n",
              "6005                                          কপাল পোড়া  Neutral\n",
              "6006  আল্লাহ আপনাকে হেদায়েত দান করুক আমীন।আমিও একজন ...  Neutral\n",
              "6007  শুধু সুন্দর চেহারার হিরো আপনি নন, সুন্দর মনের ...  Neutral\n",
              "6008  আল্লাহ আপনাকে সুস্থ রাখুক। ভাইরাস থেকে দেশের ম...  Neutral\n",
              "6009            আল্লাহ আপনার উপর রহমত বর্ষণ করুন, আমিন।  Neutral\n",
              "\n",
              "[6010 rows x 2 columns]"
            ],
            "text/html": [
              "\n",
              "  <div id=\"df-c6377f32-c58e-4f0b-ad3c-c39205360e1e\">\n",
              "    <div class=\"colab-df-container\">\n",
              "      <div>\n",
              "<style scoped>\n",
              "    .dataframe tbody tr th:only-of-type {\n",
              "        vertical-align: middle;\n",
              "    }\n",
              "\n",
              "    .dataframe tbody tr th {\n",
              "        vertical-align: top;\n",
              "    }\n",
              "\n",
              "    .dataframe thead th {\n",
              "        text-align: right;\n",
              "    }\n",
              "</style>\n",
              "<table border=\"1\" class=\"dataframe\">\n",
              "  <thead>\n",
              "    <tr style=\"text-align: right;\">\n",
              "      <th></th>\n",
              "      <th>Description</th>\n",
              "      <th>Label</th>\n",
              "    </tr>\n",
              "  </thead>\n",
              "  <tbody>\n",
              "    <tr>\n",
              "      <th>0</th>\n",
              "      <td>ওই হালার পুত এখন কি মদ খাওয়ার সময় রাতের বেলা...</td>\n",
              "      <td>sexual</td>\n",
              "    </tr>\n",
              "    <tr>\n",
              "      <th>1</th>\n",
              "      <td>আপনার জন্ম প্রক্রিয়ার সময় আপনার মায়ের ভিতর কি ...</td>\n",
              "      <td>sexual</td>\n",
              "    </tr>\n",
              "    <tr>\n",
              "      <th>2</th>\n",
              "      <td>ধজভংগ দের আর ভায়াগ্রা লাগবো না। ধংস হোক এই সব ...</td>\n",
              "      <td>sexual</td>\n",
              "    </tr>\n",
              "    <tr>\n",
              "      <th>3</th>\n",
              "      <td>বোকাচোদা একটা।</td>\n",
              "      <td>sexual</td>\n",
              "    </tr>\n",
              "    <tr>\n",
              "      <th>4</th>\n",
              "      <td>তোর দেশে ফেরার অপেক্ষায় রইলাম। জেলে একটা কামরা...</td>\n",
              "      <td>sexual</td>\n",
              "    </tr>\n",
              "    <tr>\n",
              "      <th>...</th>\n",
              "      <td>...</td>\n",
              "      <td>...</td>\n",
              "    </tr>\n",
              "    <tr>\n",
              "      <th>6005</th>\n",
              "      <td>কপাল পোড়া</td>\n",
              "      <td>Neutral</td>\n",
              "    </tr>\n",
              "    <tr>\n",
              "      <th>6006</th>\n",
              "      <td>আল্লাহ আপনাকে হেদায়েত দান করুক আমীন।আমিও একজন ...</td>\n",
              "      <td>Neutral</td>\n",
              "    </tr>\n",
              "    <tr>\n",
              "      <th>6007</th>\n",
              "      <td>শুধু সুন্দর চেহারার হিরো আপনি নন, সুন্দর মনের ...</td>\n",
              "      <td>Neutral</td>\n",
              "    </tr>\n",
              "    <tr>\n",
              "      <th>6008</th>\n",
              "      <td>আল্লাহ আপনাকে সুস্থ রাখুক। ভাইরাস থেকে দেশের ম...</td>\n",
              "      <td>Neutral</td>\n",
              "    </tr>\n",
              "    <tr>\n",
              "      <th>6009</th>\n",
              "      <td>আল্লাহ আপনার উপর রহমত বর্ষণ করুন, আমিন।</td>\n",
              "      <td>Neutral</td>\n",
              "    </tr>\n",
              "  </tbody>\n",
              "</table>\n",
              "<p>6010 rows × 2 columns</p>\n",
              "</div>\n",
              "      <button class=\"colab-df-convert\" onclick=\"convertToInteractive('df-c6377f32-c58e-4f0b-ad3c-c39205360e1e')\"\n",
              "              title=\"Convert this dataframe to an interactive table.\"\n",
              "              style=\"display:none;\">\n",
              "        \n",
              "  <svg xmlns=\"http://www.w3.org/2000/svg\" height=\"24px\"viewBox=\"0 0 24 24\"\n",
              "       width=\"24px\">\n",
              "    <path d=\"M0 0h24v24H0V0z\" fill=\"none\"/>\n",
              "    <path d=\"M18.56 5.44l.94 2.06.94-2.06 2.06-.94-2.06-.94-.94-2.06-.94 2.06-2.06.94zm-11 1L8.5 8.5l.94-2.06 2.06-.94-2.06-.94L8.5 2.5l-.94 2.06-2.06.94zm10 10l.94 2.06.94-2.06 2.06-.94-2.06-.94-.94-2.06-.94 2.06-2.06.94z\"/><path d=\"M17.41 7.96l-1.37-1.37c-.4-.4-.92-.59-1.43-.59-.52 0-1.04.2-1.43.59L10.3 9.45l-7.72 7.72c-.78.78-.78 2.05 0 2.83L4 21.41c.39.39.9.59 1.41.59.51 0 1.02-.2 1.41-.59l7.78-7.78 2.81-2.81c.8-.78.8-2.07 0-2.86zM5.41 20L4 18.59l7.72-7.72 1.47 1.35L5.41 20z\"/>\n",
              "  </svg>\n",
              "      </button>\n",
              "      \n",
              "  <style>\n",
              "    .colab-df-container {\n",
              "      display:flex;\n",
              "      flex-wrap:wrap;\n",
              "      gap: 12px;\n",
              "    }\n",
              "\n",
              "    .colab-df-convert {\n",
              "      background-color: #E8F0FE;\n",
              "      border: none;\n",
              "      border-radius: 50%;\n",
              "      cursor: pointer;\n",
              "      display: none;\n",
              "      fill: #1967D2;\n",
              "      height: 32px;\n",
              "      padding: 0 0 0 0;\n",
              "      width: 32px;\n",
              "    }\n",
              "\n",
              "    .colab-df-convert:hover {\n",
              "      background-color: #E2EBFA;\n",
              "      box-shadow: 0px 1px 2px rgba(60, 64, 67, 0.3), 0px 1px 3px 1px rgba(60, 64, 67, 0.15);\n",
              "      fill: #174EA6;\n",
              "    }\n",
              "\n",
              "    [theme=dark] .colab-df-convert {\n",
              "      background-color: #3B4455;\n",
              "      fill: #D2E3FC;\n",
              "    }\n",
              "\n",
              "    [theme=dark] .colab-df-convert:hover {\n",
              "      background-color: #434B5C;\n",
              "      box-shadow: 0px 1px 3px 1px rgba(0, 0, 0, 0.15);\n",
              "      filter: drop-shadow(0px 1px 2px rgba(0, 0, 0, 0.3));\n",
              "      fill: #FFFFFF;\n",
              "    }\n",
              "  </style>\n",
              "\n",
              "      <script>\n",
              "        const buttonEl =\n",
              "          document.querySelector('#df-c6377f32-c58e-4f0b-ad3c-c39205360e1e button.colab-df-convert');\n",
              "        buttonEl.style.display =\n",
              "          google.colab.kernel.accessAllowed ? 'block' : 'none';\n",
              "\n",
              "        async function convertToInteractive(key) {\n",
              "          const element = document.querySelector('#df-c6377f32-c58e-4f0b-ad3c-c39205360e1e');\n",
              "          const dataTable =\n",
              "            await google.colab.kernel.invokeFunction('convertToInteractive',\n",
              "                                                     [key], {});\n",
              "          if (!dataTable) return;\n",
              "\n",
              "          const docLinkHtml = 'Like what you see? Visit the ' +\n",
              "            '<a target=\"_blank\" href=https://colab.research.google.com/notebooks/data_table.ipynb>data table notebook</a>'\n",
              "            + ' to learn more about interactive tables.';\n",
              "          element.innerHTML = '';\n",
              "          dataTable['output_type'] = 'display_data';\n",
              "          await google.colab.output.renderOutput(dataTable, element);\n",
              "          const docLink = document.createElement('div');\n",
              "          docLink.innerHTML = docLinkHtml;\n",
              "          element.appendChild(docLink);\n",
              "        }\n",
              "      </script>\n",
              "    </div>\n",
              "  </div>\n",
              "  "
            ]
          },
          "metadata": {},
          "execution_count": 3
        }
      ]
    },
    {
      "cell_type": "code",
      "source": [
        "import string\n",
        "string.punctuation"
      ],
      "metadata": {
        "colab": {
          "base_uri": "https://localhost:8080/",
          "height": 35
        },
        "id": "HyKf87d7o8GJ",
        "outputId": "b677d7ea-e5fe-4cda-9067-c2f63474e818"
      },
      "execution_count": null,
      "outputs": [
        {
          "output_type": "execute_result",
          "data": {
            "text/plain": [
              "'!\"#$%&\\'()*+,-./:;<=>?@[\\\\]^_`{|}~'"
            ],
            "application/vnd.google.colaboratory.intrinsic+json": {
              "type": "string"
            }
          },
          "metadata": {},
          "execution_count": 4
        }
      ]
    },
    {
      "cell_type": "code",
      "source": [
        "\n",
        "exclude = string.punctuation"
      ],
      "metadata": {
        "id": "huYgUWdCpItQ"
      },
      "execution_count": null,
      "outputs": []
    },
    {
      "cell_type": "code",
      "source": [
        "def remove_punc(text):\n",
        "  return text.translate(str.maketrans('','',exclude))"
      ],
      "metadata": {
        "id": "PVSYq2s4pMfB"
      },
      "execution_count": null,
      "outputs": []
    },
    {
      "cell_type": "code",
      "source": [
        "df['Description'] = df['Description'].apply(remove_punc)"
      ],
      "metadata": {
        "id": "w7-7qrenpDcC"
      },
      "execution_count": null,
      "outputs": []
    },
    {
      "cell_type": "code",
      "source": [
        "df['Label'].value_counts()"
      ],
      "metadata": {
        "colab": {
          "base_uri": "https://localhost:8080/"
        },
        "id": "GYm_LzaiRM7g",
        "outputId": "b58debd1-ca1c-496a-a688-24ed633a76cb"
      },
      "execution_count": null,
      "outputs": [
        {
          "output_type": "execute_result",
          "data": {
            "text/plain": [
              "Political    1205\n",
              "troll        1202\n",
              "sexual       1201\n",
              "Threat       1201\n",
              "Neutral      1201\n",
              "Name: Label, dtype: int64"
            ]
          },
          "metadata": {},
          "execution_count": 8
        }
      ]
    },
    {
      "cell_type": "code",
      "source": [
        "x = df.drop(columns = 'Label')\n",
        "y = df['Label']"
      ],
      "metadata": {
        "id": "A1CM8ea5PMMv"
      },
      "execution_count": null,
      "outputs": []
    },
    {
      "cell_type": "code",
      "source": [
        "x"
      ],
      "metadata": {
        "colab": {
          "base_uri": "https://localhost:8080/",
          "height": 424
        },
        "id": "sDMFVB2hQoGw",
        "outputId": "430eaa51-6643-4dac-e74d-928d0fb28147"
      },
      "execution_count": null,
      "outputs": [
        {
          "output_type": "execute_result",
          "data": {
            "text/plain": [
              "                                            Description\n",
              "0     ওই হালার পুত এখন কি মদ খাওয়ার সময় রাতের বেলা...\n",
              "1     আপনার জন্ম প্রক্রিয়ার সময় আপনার মায়ের ভিতর কি ...\n",
              "2     ধজভংগ দের আর ভায়াগ্রা লাগবো না। ধংস হোক এই সব ...\n",
              "3                                        বোকাচোদা একটা।\n",
              "4     তোর দেশে ফেরার অপেক্ষায় রইলাম। জেলে একটা কামরা...\n",
              "...                                                 ...\n",
              "6005                                          কপাল পোড়া\n",
              "6006  আল্লাহ আপনাকে হেদায়েত দান করুক আমীন।আমিও একজন ...\n",
              "6007  শুধু সুন্দর চেহারার হিরো আপনি নন সুন্দর মনের ও...\n",
              "6008  আল্লাহ আপনাকে সুস্থ রাখুক। ভাইরাস থেকে দেশের ম...\n",
              "6009             আল্লাহ আপনার উপর রহমত বর্ষণ করুন আমিন।\n",
              "\n",
              "[6010 rows x 1 columns]"
            ],
            "text/html": [
              "\n",
              "  <div id=\"df-8fff8743-bbe8-4626-97b1-7af82f7a26c3\">\n",
              "    <div class=\"colab-df-container\">\n",
              "      <div>\n",
              "<style scoped>\n",
              "    .dataframe tbody tr th:only-of-type {\n",
              "        vertical-align: middle;\n",
              "    }\n",
              "\n",
              "    .dataframe tbody tr th {\n",
              "        vertical-align: top;\n",
              "    }\n",
              "\n",
              "    .dataframe thead th {\n",
              "        text-align: right;\n",
              "    }\n",
              "</style>\n",
              "<table border=\"1\" class=\"dataframe\">\n",
              "  <thead>\n",
              "    <tr style=\"text-align: right;\">\n",
              "      <th></th>\n",
              "      <th>Description</th>\n",
              "    </tr>\n",
              "  </thead>\n",
              "  <tbody>\n",
              "    <tr>\n",
              "      <th>0</th>\n",
              "      <td>ওই হালার পুত এখন কি মদ খাওয়ার সময় রাতের বেলা...</td>\n",
              "    </tr>\n",
              "    <tr>\n",
              "      <th>1</th>\n",
              "      <td>আপনার জন্ম প্রক্রিয়ার সময় আপনার মায়ের ভিতর কি ...</td>\n",
              "    </tr>\n",
              "    <tr>\n",
              "      <th>2</th>\n",
              "      <td>ধজভংগ দের আর ভায়াগ্রা লাগবো না। ধংস হোক এই সব ...</td>\n",
              "    </tr>\n",
              "    <tr>\n",
              "      <th>3</th>\n",
              "      <td>বোকাচোদা একটা।</td>\n",
              "    </tr>\n",
              "    <tr>\n",
              "      <th>4</th>\n",
              "      <td>তোর দেশে ফেরার অপেক্ষায় রইলাম। জেলে একটা কামরা...</td>\n",
              "    </tr>\n",
              "    <tr>\n",
              "      <th>...</th>\n",
              "      <td>...</td>\n",
              "    </tr>\n",
              "    <tr>\n",
              "      <th>6005</th>\n",
              "      <td>কপাল পোড়া</td>\n",
              "    </tr>\n",
              "    <tr>\n",
              "      <th>6006</th>\n",
              "      <td>আল্লাহ আপনাকে হেদায়েত দান করুক আমীন।আমিও একজন ...</td>\n",
              "    </tr>\n",
              "    <tr>\n",
              "      <th>6007</th>\n",
              "      <td>শুধু সুন্দর চেহারার হিরো আপনি নন সুন্দর মনের ও...</td>\n",
              "    </tr>\n",
              "    <tr>\n",
              "      <th>6008</th>\n",
              "      <td>আল্লাহ আপনাকে সুস্থ রাখুক। ভাইরাস থেকে দেশের ম...</td>\n",
              "    </tr>\n",
              "    <tr>\n",
              "      <th>6009</th>\n",
              "      <td>আল্লাহ আপনার উপর রহমত বর্ষণ করুন আমিন।</td>\n",
              "    </tr>\n",
              "  </tbody>\n",
              "</table>\n",
              "<p>6010 rows × 1 columns</p>\n",
              "</div>\n",
              "      <button class=\"colab-df-convert\" onclick=\"convertToInteractive('df-8fff8743-bbe8-4626-97b1-7af82f7a26c3')\"\n",
              "              title=\"Convert this dataframe to an interactive table.\"\n",
              "              style=\"display:none;\">\n",
              "        \n",
              "  <svg xmlns=\"http://www.w3.org/2000/svg\" height=\"24px\"viewBox=\"0 0 24 24\"\n",
              "       width=\"24px\">\n",
              "    <path d=\"M0 0h24v24H0V0z\" fill=\"none\"/>\n",
              "    <path d=\"M18.56 5.44l.94 2.06.94-2.06 2.06-.94-2.06-.94-.94-2.06-.94 2.06-2.06.94zm-11 1L8.5 8.5l.94-2.06 2.06-.94-2.06-.94L8.5 2.5l-.94 2.06-2.06.94zm10 10l.94 2.06.94-2.06 2.06-.94-2.06-.94-.94-2.06-.94 2.06-2.06.94z\"/><path d=\"M17.41 7.96l-1.37-1.37c-.4-.4-.92-.59-1.43-.59-.52 0-1.04.2-1.43.59L10.3 9.45l-7.72 7.72c-.78.78-.78 2.05 0 2.83L4 21.41c.39.39.9.59 1.41.59.51 0 1.02-.2 1.41-.59l7.78-7.78 2.81-2.81c.8-.78.8-2.07 0-2.86zM5.41 20L4 18.59l7.72-7.72 1.47 1.35L5.41 20z\"/>\n",
              "  </svg>\n",
              "      </button>\n",
              "      \n",
              "  <style>\n",
              "    .colab-df-container {\n",
              "      display:flex;\n",
              "      flex-wrap:wrap;\n",
              "      gap: 12px;\n",
              "    }\n",
              "\n",
              "    .colab-df-convert {\n",
              "      background-color: #E8F0FE;\n",
              "      border: none;\n",
              "      border-radius: 50%;\n",
              "      cursor: pointer;\n",
              "      display: none;\n",
              "      fill: #1967D2;\n",
              "      height: 32px;\n",
              "      padding: 0 0 0 0;\n",
              "      width: 32px;\n",
              "    }\n",
              "\n",
              "    .colab-df-convert:hover {\n",
              "      background-color: #E2EBFA;\n",
              "      box-shadow: 0px 1px 2px rgba(60, 64, 67, 0.3), 0px 1px 3px 1px rgba(60, 64, 67, 0.15);\n",
              "      fill: #174EA6;\n",
              "    }\n",
              "\n",
              "    [theme=dark] .colab-df-convert {\n",
              "      background-color: #3B4455;\n",
              "      fill: #D2E3FC;\n",
              "    }\n",
              "\n",
              "    [theme=dark] .colab-df-convert:hover {\n",
              "      background-color: #434B5C;\n",
              "      box-shadow: 0px 1px 3px 1px rgba(0, 0, 0, 0.15);\n",
              "      filter: drop-shadow(0px 1px 2px rgba(0, 0, 0, 0.3));\n",
              "      fill: #FFFFFF;\n",
              "    }\n",
              "  </style>\n",
              "\n",
              "      <script>\n",
              "        const buttonEl =\n",
              "          document.querySelector('#df-8fff8743-bbe8-4626-97b1-7af82f7a26c3 button.colab-df-convert');\n",
              "        buttonEl.style.display =\n",
              "          google.colab.kernel.accessAllowed ? 'block' : 'none';\n",
              "\n",
              "        async function convertToInteractive(key) {\n",
              "          const element = document.querySelector('#df-8fff8743-bbe8-4626-97b1-7af82f7a26c3');\n",
              "          const dataTable =\n",
              "            await google.colab.kernel.invokeFunction('convertToInteractive',\n",
              "                                                     [key], {});\n",
              "          if (!dataTable) return;\n",
              "\n",
              "          const docLinkHtml = 'Like what you see? Visit the ' +\n",
              "            '<a target=\"_blank\" href=https://colab.research.google.com/notebooks/data_table.ipynb>data table notebook</a>'\n",
              "            + ' to learn more about interactive tables.';\n",
              "          element.innerHTML = '';\n",
              "          dataTable['output_type'] = 'display_data';\n",
              "          await google.colab.output.renderOutput(dataTable, element);\n",
              "          const docLink = document.createElement('div');\n",
              "          docLink.innerHTML = docLinkHtml;\n",
              "          element.appendChild(docLink);\n",
              "        }\n",
              "      </script>\n",
              "    </div>\n",
              "  </div>\n",
              "  "
            ]
          },
          "metadata": {},
          "execution_count": 10
        }
      ]
    },
    {
      "cell_type": "code",
      "source": [
        "y"
      ],
      "metadata": {
        "colab": {
          "base_uri": "https://localhost:8080/"
        },
        "id": "MOY808lNQobA",
        "outputId": "fddde393-5b84-4964-cf79-39dab94d53f3"
      },
      "execution_count": null,
      "outputs": [
        {
          "output_type": "execute_result",
          "data": {
            "text/plain": [
              "0        sexual\n",
              "1        sexual\n",
              "2        sexual\n",
              "3        sexual\n",
              "4        sexual\n",
              "         ...   \n",
              "6005    Neutral\n",
              "6006    Neutral\n",
              "6007    Neutral\n",
              "6008    Neutral\n",
              "6009    Neutral\n",
              "Name: Label, Length: 6010, dtype: object"
            ]
          },
          "metadata": {},
          "execution_count": 11
        }
      ]
    },
    {
      "cell_type": "code",
      "source": [
        "y.value_counts()"
      ],
      "metadata": {
        "colab": {
          "base_uri": "https://localhost:8080/"
        },
        "id": "PvvGAwfDRJBO",
        "outputId": "7302e04c-3541-4ee7-f066-450ffe0180fe"
      },
      "execution_count": null,
      "outputs": [
        {
          "output_type": "execute_result",
          "data": {
            "text/plain": [
              "Political    1205\n",
              "troll        1202\n",
              "sexual       1201\n",
              "Threat       1201\n",
              "Neutral      1201\n",
              "Name: Label, dtype: int64"
            ]
          },
          "metadata": {},
          "execution_count": 12
        }
      ]
    },
    {
      "cell_type": "code",
      "source": [
        "# Now convert the label column into number\n",
        "from sklearn.preprocessing import LabelEncoder\n",
        "encoder = LabelEncoder()\n",
        "y = encoder.fit_transform(y)\n",
        "print(y)"
      ],
      "metadata": {
        "colab": {
          "base_uri": "https://localhost:8080/"
        },
        "id": "wlP_K6w6QouW",
        "outputId": "3079ab96-f599-44b4-cf50-df0292df92da"
      },
      "execution_count": null,
      "outputs": [
        {
          "output_type": "stream",
          "name": "stdout",
          "text": [
            "[3 3 3 ... 0 0 0]\n"
          ]
        }
      ]
    },
    {
      "cell_type": "code",
      "source": [
        "# split the data for train and test\n",
        "from sklearn.model_selection import train_test_split\n",
        "x_train,x_test,y_train,y_test = train_test_split(x,y,test_size=0.2,random_state=101)"
      ],
      "metadata": {
        "id": "G34Vy74ORAX8"
      },
      "execution_count": null,
      "outputs": []
    },
    {
      "cell_type": "code",
      "source": [
        "print(\"x shape \",x.shape)\n",
        "print(\"x_train shape \",x_train.shape)\n",
        "print(\"x_test shape \",x_test.shape)"
      ],
      "metadata": {
        "colab": {
          "base_uri": "https://localhost:8080/"
        },
        "id": "20IlNgcERp3l",
        "outputId": "c6f344f7-7e0b-4370-8089-bf1bb6088180"
      },
      "execution_count": null,
      "outputs": [
        {
          "output_type": "stream",
          "name": "stdout",
          "text": [
            "x shape  (6010, 1)\n",
            "x_train shape  (4808, 1)\n",
            "x_test shape  (1202, 1)\n"
          ]
        }
      ]
    },
    {
      "cell_type": "code",
      "source": [
        "print(\"y shape \",y.shape)\n",
        "print(\"y_train shape \",y_train.shape)\n",
        "print(\"y_test shape \",y_test.shape)"
      ],
      "metadata": {
        "colab": {
          "base_uri": "https://localhost:8080/"
        },
        "id": "9Dgj3RwjSNIN",
        "outputId": "809692cb-bd9d-422f-89bf-1b7cd8832ded"
      },
      "execution_count": null,
      "outputs": [
        {
          "output_type": "stream",
          "name": "stdout",
          "text": [
            "y shape  (6010,)\n",
            "y_train shape  (4808,)\n",
            "y_test shape  (1202,)\n"
          ]
        }
      ]
    },
    {
      "cell_type": "code",
      "source": [
        "x_train"
      ],
      "metadata": {
        "colab": {
          "base_uri": "https://localhost:8080/",
          "height": 424
        },
        "id": "7etkwP8NSd5C",
        "outputId": "488ac991-0a80-4a25-cbc9-9bdca3e8e67d"
      },
      "execution_count": null,
      "outputs": [
        {
          "output_type": "execute_result",
          "data": {
            "text/plain": [
              "                                            Description\n",
              "613                        সমস্ত কিছুই মালিক আমার আললাহ\n",
              "803                                         লুচ্চা মাগি\n",
              "506   গালি গালাজের কিচ্ছু নাই এখানে। যারা গালি দিচ্ছ...\n",
              "4784  দুই দিনের তথাকথিত সেলিব্রেটি হয়ে এই মহিলা ধরাক...\n",
              "1381                                         জুতার বারি\n",
              "...                                                 ...\n",
              "599   বাতাস কি কখনো দেখেন তো বাতাস কি বিশ্বাস করেনআপ...\n",
              "5695                          জয় বাংলা জিতবে আবার নৌকা।\n",
              "1361  খানকিরপোলা রা মুসলিমের নাম চেঞ্জ কর তোদের মত ব...\n",
              "1547  ফ্যানব্যাজ হারাচ্ছে বলে জুতা মেরে মাল্যদান how...\n",
              "4959  ডয়চে ভেলে বাকস্বাধীনতার পক্ষে৷ আর আমরা শুধু না...\n",
              "\n",
              "[4808 rows x 1 columns]"
            ],
            "text/html": [
              "\n",
              "  <div id=\"df-d9f85700-60be-4f90-bb03-19f36186e409\">\n",
              "    <div class=\"colab-df-container\">\n",
              "      <div>\n",
              "<style scoped>\n",
              "    .dataframe tbody tr th:only-of-type {\n",
              "        vertical-align: middle;\n",
              "    }\n",
              "\n",
              "    .dataframe tbody tr th {\n",
              "        vertical-align: top;\n",
              "    }\n",
              "\n",
              "    .dataframe thead th {\n",
              "        text-align: right;\n",
              "    }\n",
              "</style>\n",
              "<table border=\"1\" class=\"dataframe\">\n",
              "  <thead>\n",
              "    <tr style=\"text-align: right;\">\n",
              "      <th></th>\n",
              "      <th>Description</th>\n",
              "    </tr>\n",
              "  </thead>\n",
              "  <tbody>\n",
              "    <tr>\n",
              "      <th>613</th>\n",
              "      <td>সমস্ত কিছুই মালিক আমার আললাহ</td>\n",
              "    </tr>\n",
              "    <tr>\n",
              "      <th>803</th>\n",
              "      <td>লুচ্চা মাগি</td>\n",
              "    </tr>\n",
              "    <tr>\n",
              "      <th>506</th>\n",
              "      <td>গালি গালাজের কিচ্ছু নাই এখানে। যারা গালি দিচ্ছ...</td>\n",
              "    </tr>\n",
              "    <tr>\n",
              "      <th>4784</th>\n",
              "      <td>দুই দিনের তথাকথিত সেলিব্রেটি হয়ে এই মহিলা ধরাক...</td>\n",
              "    </tr>\n",
              "    <tr>\n",
              "      <th>1381</th>\n",
              "      <td>জুতার বারি</td>\n",
              "    </tr>\n",
              "    <tr>\n",
              "      <th>...</th>\n",
              "      <td>...</td>\n",
              "    </tr>\n",
              "    <tr>\n",
              "      <th>599</th>\n",
              "      <td>বাতাস কি কখনো দেখেন তো বাতাস কি বিশ্বাস করেনআপ...</td>\n",
              "    </tr>\n",
              "    <tr>\n",
              "      <th>5695</th>\n",
              "      <td>জয় বাংলা জিতবে আবার নৌকা।</td>\n",
              "    </tr>\n",
              "    <tr>\n",
              "      <th>1361</th>\n",
              "      <td>খানকিরপোলা রা মুসলিমের নাম চেঞ্জ কর তোদের মত ব...</td>\n",
              "    </tr>\n",
              "    <tr>\n",
              "      <th>1547</th>\n",
              "      <td>ফ্যানব্যাজ হারাচ্ছে বলে জুতা মেরে মাল্যদান how...</td>\n",
              "    </tr>\n",
              "    <tr>\n",
              "      <th>4959</th>\n",
              "      <td>ডয়চে ভেলে বাকস্বাধীনতার পক্ষে৷ আর আমরা শুধু না...</td>\n",
              "    </tr>\n",
              "  </tbody>\n",
              "</table>\n",
              "<p>4808 rows × 1 columns</p>\n",
              "</div>\n",
              "      <button class=\"colab-df-convert\" onclick=\"convertToInteractive('df-d9f85700-60be-4f90-bb03-19f36186e409')\"\n",
              "              title=\"Convert this dataframe to an interactive table.\"\n",
              "              style=\"display:none;\">\n",
              "        \n",
              "  <svg xmlns=\"http://www.w3.org/2000/svg\" height=\"24px\"viewBox=\"0 0 24 24\"\n",
              "       width=\"24px\">\n",
              "    <path d=\"M0 0h24v24H0V0z\" fill=\"none\"/>\n",
              "    <path d=\"M18.56 5.44l.94 2.06.94-2.06 2.06-.94-2.06-.94-.94-2.06-.94 2.06-2.06.94zm-11 1L8.5 8.5l.94-2.06 2.06-.94-2.06-.94L8.5 2.5l-.94 2.06-2.06.94zm10 10l.94 2.06.94-2.06 2.06-.94-2.06-.94-.94-2.06-.94 2.06-2.06.94z\"/><path d=\"M17.41 7.96l-1.37-1.37c-.4-.4-.92-.59-1.43-.59-.52 0-1.04.2-1.43.59L10.3 9.45l-7.72 7.72c-.78.78-.78 2.05 0 2.83L4 21.41c.39.39.9.59 1.41.59.51 0 1.02-.2 1.41-.59l7.78-7.78 2.81-2.81c.8-.78.8-2.07 0-2.86zM5.41 20L4 18.59l7.72-7.72 1.47 1.35L5.41 20z\"/>\n",
              "  </svg>\n",
              "      </button>\n",
              "      \n",
              "  <style>\n",
              "    .colab-df-container {\n",
              "      display:flex;\n",
              "      flex-wrap:wrap;\n",
              "      gap: 12px;\n",
              "    }\n",
              "\n",
              "    .colab-df-convert {\n",
              "      background-color: #E8F0FE;\n",
              "      border: none;\n",
              "      border-radius: 50%;\n",
              "      cursor: pointer;\n",
              "      display: none;\n",
              "      fill: #1967D2;\n",
              "      height: 32px;\n",
              "      padding: 0 0 0 0;\n",
              "      width: 32px;\n",
              "    }\n",
              "\n",
              "    .colab-df-convert:hover {\n",
              "      background-color: #E2EBFA;\n",
              "      box-shadow: 0px 1px 2px rgba(60, 64, 67, 0.3), 0px 1px 3px 1px rgba(60, 64, 67, 0.15);\n",
              "      fill: #174EA6;\n",
              "    }\n",
              "\n",
              "    [theme=dark] .colab-df-convert {\n",
              "      background-color: #3B4455;\n",
              "      fill: #D2E3FC;\n",
              "    }\n",
              "\n",
              "    [theme=dark] .colab-df-convert:hover {\n",
              "      background-color: #434B5C;\n",
              "      box-shadow: 0px 1px 3px 1px rgba(0, 0, 0, 0.15);\n",
              "      filter: drop-shadow(0px 1px 2px rgba(0, 0, 0, 0.3));\n",
              "      fill: #FFFFFF;\n",
              "    }\n",
              "  </style>\n",
              "\n",
              "      <script>\n",
              "        const buttonEl =\n",
              "          document.querySelector('#df-d9f85700-60be-4f90-bb03-19f36186e409 button.colab-df-convert');\n",
              "        buttonEl.style.display =\n",
              "          google.colab.kernel.accessAllowed ? 'block' : 'none';\n",
              "\n",
              "        async function convertToInteractive(key) {\n",
              "          const element = document.querySelector('#df-d9f85700-60be-4f90-bb03-19f36186e409');\n",
              "          const dataTable =\n",
              "            await google.colab.kernel.invokeFunction('convertToInteractive',\n",
              "                                                     [key], {});\n",
              "          if (!dataTable) return;\n",
              "\n",
              "          const docLinkHtml = 'Like what you see? Visit the ' +\n",
              "            '<a target=\"_blank\" href=https://colab.research.google.com/notebooks/data_table.ipynb>data table notebook</a>'\n",
              "            + ' to learn more about interactive tables.';\n",
              "          element.innerHTML = '';\n",
              "          dataTable['output_type'] = 'display_data';\n",
              "          await google.colab.output.renderOutput(dataTable, element);\n",
              "          const docLink = document.createElement('div');\n",
              "          docLink.innerHTML = docLinkHtml;\n",
              "          element.appendChild(docLink);\n",
              "        }\n",
              "      </script>\n",
              "    </div>\n",
              "  </div>\n",
              "  "
            ]
          },
          "metadata": {},
          "execution_count": 17
        }
      ]
    },
    {
      "cell_type": "code",
      "source": [
        "# machine learning algorithm function\n",
        "from sklearn.metrics import accuracy_score,confusion_matrix\n",
        "\n",
        "from sklearn.naive_bayes import GaussianNB\n",
        "def GaussianNB_Custom(x_train,x_test,y_train,y_test):\n",
        "  gnb = GaussianNB()\n",
        "  gnb.fit(x_train,y_train)\n",
        "  y_pred = gnb.predict(x_test)\n",
        "  print(\"Accuracy for Gausssian NB\",accuracy_score(y_test,y_pred))\n",
        "\n",
        "\n",
        "# random forest Classifier\n",
        "from sklearn.ensemble import RandomForestClassifier\n",
        "def Random_Forest_Classifier_Custom(x_train,x_test,y_train,y_test):\n",
        "  rf=RandomForestClassifier()\n",
        "  rf.fit(x_train,y_train)\n",
        "  y_pred = rf.predict(x_test)\n",
        "  print(\"Accuracy for Random forest \",accuracy_score(y_test,y_pred))\n",
        "\n",
        "# K-Nearest Neighbors Clasifier Algorithm\n",
        "from sklearn.neighbors import KNeighborsClassifier\n",
        "def K_Nearest_Neighbors_Clasifier_Custom(x_train,x_test,y_train,y_test):\n",
        "  KNC = KNeighborsClassifier(n_neighbors=77)\n",
        "  KNC.fit(x_train,y_train)\n",
        "  y_pred = KNC.predict(x_test)\n",
        "  print(\"Accuracy for K-Nearest Neighbors Clasifier \",accuracy_score(y_test,y_pred))\n",
        "\n",
        "# Support vector machine Classifier\n",
        "from sklearn.svm import SVC\n",
        "def Support_Vector_Machine_Classifier(x_train,x_test,y_train,y_test):\n",
        "  svmc = SVC()\n",
        "  svmc.fit(x_train,y_train)\n",
        "  y_pred = svmc.predict(x_test)\n",
        "  print(\"Accuracy for Support vector machine Classifier  \",accuracy_score(y_test,y_pred))\n",
        "\n",
        "# BernoulliNB\n",
        "from sklearn.naive_bayes import BernoulliNB\n",
        "def BernoulliNB_Custom(x_train,x_test,y_train,y_test):\n",
        "  BNB = BernoulliNB()\n",
        "  BNB.fit(x_train,y_train)\n",
        "  y_pred = BNB.predict(x_test)\n",
        "  print(\"Accuracy for BernoulliNB \",accuracy_score(y_test,y_pred))\n",
        "\n",
        "# MultinomialNB\n",
        "from sklearn.naive_bayes import  MultinomialNB\n",
        "def MultinomialNB_Custom(x_train,x_test,y_train,y_test):\n",
        "  MNB = MultinomialNB()\n",
        "  MNB.fit(x_train,y_train)\n",
        "  y_pred = MNB.predict(x_test)\n",
        "  print(\"Accuracy for MultinomialNB \",accuracy_score(y_test,y_pred))\n",
        "\n",
        "# LogisticRegression\n",
        "from sklearn.linear_model import LogisticRegression\n",
        "def LogisticRegression_Custom(x_train,x_test,y_train,y_test):\n",
        "  LR = LogisticRegression()\n",
        "  LR.fit(x_train,y_train)\n",
        "  y_pred = LR.predict(x_test)\n",
        "  print(\"Accuracy for LogisticRegression  \",accuracy_score(y_test,y_pred))\n"
      ],
      "metadata": {
        "id": "8hYA3UZCT3AA"
      },
      "execution_count": null,
      "outputs": []
    },
    {
      "cell_type": "markdown",
      "source": [
        "Apply Bag of Word (BOW)"
      ],
      "metadata": {
        "id": "sU1v2vh3ST76"
      }
    },
    {
      "cell_type": "code",
      "source": [
        "from sklearn.feature_extraction.text import CountVectorizer\n",
        "cv = CountVectorizer()"
      ],
      "metadata": {
        "id": "O6JBQxufSOuu"
      },
      "execution_count": null,
      "outputs": []
    },
    {
      "cell_type": "code",
      "source": [
        "x_train_bow = cv.fit_transform(x_train['Description']).toarray()\n",
        "x_test_bow = cv.transform(x_test['Description']).toarray()"
      ],
      "metadata": {
        "id": "_XaFVbLPSZej"
      },
      "execution_count": null,
      "outputs": []
    },
    {
      "cell_type": "code",
      "source": [
        "x_train_bow.shape"
      ],
      "metadata": {
        "colab": {
          "base_uri": "https://localhost:8080/"
        },
        "id": "wV9EkEjRShgy",
        "outputId": "1abd7eb1-fd05-4c9c-eed0-c7ee256390cc"
      },
      "execution_count": null,
      "outputs": [
        {
          "output_type": "execute_result",
          "data": {
            "text/plain": [
              "(4808, 3226)"
            ]
          },
          "metadata": {},
          "execution_count": 21
        }
      ]
    },
    {
      "cell_type": "code",
      "source": [
        "x_test_bow.shape"
      ],
      "metadata": {
        "colab": {
          "base_uri": "https://localhost:8080/"
        },
        "id": "iNVtFWdjSjxJ",
        "outputId": "c13e966f-d88b-4989-851c-a66470ed6892"
      },
      "execution_count": null,
      "outputs": [
        {
          "output_type": "execute_result",
          "data": {
            "text/plain": [
              "(1202, 3226)"
            ]
          },
          "metadata": {},
          "execution_count": 22
        }
      ]
    },
    {
      "cell_type": "code",
      "source": [
        "GaussianNB_Custom(x_train_bow,x_test_bow,y_train,y_test)\n",
        "Random_Forest_Classifier_Custom(x_train_bow,x_test_bow,y_train,y_test)\n",
        "K_Nearest_Neighbors_Clasifier_Custom(x_train_bow,x_test_bow,y_train,y_test)\n",
        "Support_Vector_Machine_Classifier(x_train_bow,x_test_bow,y_train,y_test)\n",
        "BernoulliNB_Custom(x_train_bow,x_test_bow,y_train,y_test)\n",
        "MultinomialNB_Custom(x_train_bow,x_test_bow,y_train,y_test)\n",
        "LogisticRegression_Custom(x_train_bow,x_test_bow,y_train,y_test)"
      ],
      "metadata": {
        "colab": {
          "base_uri": "https://localhost:8080/"
        },
        "id": "CKUTeQCwSl7w",
        "outputId": "fe1128d0-58c8-41bb-a872-df06be0572a0"
      },
      "execution_count": null,
      "outputs": [
        {
          "output_type": "stream",
          "name": "stdout",
          "text": [
            "Accuracy for Gausssian NB 0.3036605657237937\n",
            "Accuracy for Random forest  0.46755407653910147\n",
            "Accuracy for K-Nearest Neighbors Clasifier  0.27870216306156403\n",
            "Accuracy for Support vector machine Classifier   0.44509151414309484\n",
            "Accuracy for BernoulliNB  0.4276206322795341\n",
            "Accuracy for MultinomialNB  0.4683860232945091\n",
            "Accuracy for LogisticRegression   0.44675540765391014\n"
          ]
        },
        {
          "output_type": "stream",
          "name": "stderr",
          "text": [
            "/usr/local/lib/python3.10/dist-packages/sklearn/linear_model/_logistic.py:458: ConvergenceWarning: lbfgs failed to converge (status=1):\n",
            "STOP: TOTAL NO. of ITERATIONS REACHED LIMIT.\n",
            "\n",
            "Increase the number of iterations (max_iter) or scale the data as shown in:\n",
            "    https://scikit-learn.org/stable/modules/preprocessing.html\n",
            "Please also refer to the documentation for alternative solver options:\n",
            "    https://scikit-learn.org/stable/modules/linear_model.html#logistic-regression\n",
            "  n_iter_i = _check_optimize_result(\n"
          ]
        }
      ]
    },
    {
      "cell_type": "code",
      "source": [
        "# taking max_features 3000 insteadof using 48,000\n",
        "cv = CountVectorizer(max_features=3000)\n",
        "x_train_bow = cv.fit_transform(x_train['Description']).toarray()\n",
        "x_test_bow = cv.transform(x_test['Description']).toarray()\n",
        "\n",
        "# using Randomforest\n",
        "Random_Forest_Classifier_Custom(x_train_bow,x_test_bow,y_train,y_test)\n",
        "\n",
        "#using GaussianNB\n",
        "GaussianNB_Custom(x_train_bow,x_test_bow,y_train,y_test)\n",
        "\n",
        "#using K-Nearest Neighbors Clasifier\n",
        "K_Nearest_Neighbors_Clasifier_Custom(x_train_bow,x_test_bow,y_train,y_test)\n",
        "\n",
        "# using Support_Vector_Machine_Classifier\n",
        "Support_Vector_Machine_Classifier(x_train_bow,x_test_bow,y_train,y_test)\n",
        "\n",
        "# using BernoulliNB\n",
        "BernoulliNB_Custom(x_train_bow,x_test_bow,y_train,y_test)\n",
        "\n",
        "#using MultinomialNB\n",
        "MultinomialNB_Custom(x_train_bow,x_test_bow,y_train,y_test)\n",
        "\n",
        "# #using Logistic Regression\n",
        "# LogisticRegression_Custom(x_train_bow,x_test_bow,y_train,y_test)"
      ],
      "metadata": {
        "colab": {
          "base_uri": "https://localhost:8080/"
        },
        "id": "1naMoeJsTM3i",
        "outputId": "e630a438-fc74-4286-dee3-a2490c5b9341"
      },
      "execution_count": null,
      "outputs": [
        {
          "output_type": "stream",
          "name": "stdout",
          "text": [
            "Accuracy for Random forest  0.4700499168053245\n",
            "Accuracy for Gausssian NB 0.31114808652246256\n",
            "Accuracy for K-Nearest Neighbors Clasifier  0.2795341098169717\n",
            "Accuracy for Support vector machine Classifier   0.44342762063227953\n",
            "Accuracy for BernoulliNB  0.4242928452579035\n",
            "Accuracy for MultinomialNB  0.46755407653910147\n"
          ]
        }
      ]
    },
    {
      "cell_type": "code",
      "source": [
        "# using trigram / ngrams\n",
        "cv = CountVectorizer(ngram_range=(1,3),max_features=3000)\n",
        "x_train_bow = cv.fit_transform(x_train['Description']).toarray()\n",
        "x_test_bow = cv.transform(x_test['Description']).toarray()\n",
        "\n",
        "# using Randomforest\n",
        "Random_Forest_Classifier_Custom(x_train_bow,x_test_bow,y_train,y_test)\n",
        "\n",
        "#using GaussianNB\n",
        "GaussianNB_Custom(x_train_bow,x_test_bow,y_train,y_test)\n",
        "\n",
        "#using K-Nearest Neighbors Clasifier\n",
        "K_Nearest_Neighbors_Clasifier_Custom(x_train_bow,x_test_bow,y_train,y_test)\n",
        "\n",
        "# using Support_Vector_Machine_Classifier\n",
        "Support_Vector_Machine_Classifier(x_train_bow,x_test_bow,y_train,y_test)\n",
        "\n",
        "# using BernoulliNB\n",
        "BernoulliNB_Custom(x_train_bow,x_test_bow,y_train,y_test)\n",
        "\n",
        "#using MultinomialNB\n",
        "MultinomialNB_Custom(x_train_bow,x_test_bow,y_train,y_test)\n",
        "\n",
        "# #using Logistic Regression\n",
        "# LogisticRegression_Custom(x_train_bow,x_test_bow,y_train,y_test)"
      ],
      "metadata": {
        "colab": {
          "base_uri": "https://localhost:8080/"
        },
        "id": "wAVO300piKje",
        "outputId": "1adcecc8-0e0b-4d85-e9b6-0d418c19b6fe"
      },
      "execution_count": null,
      "outputs": [
        {
          "output_type": "stream",
          "name": "stdout",
          "text": [
            "Accuracy for Random forest  0.47088186356073214\n",
            "Accuracy for Gausssian NB 0.32029950083194675\n",
            "Accuracy for K-Nearest Neighbors Clasifier  0.3036605657237937\n",
            "Accuracy for Support vector machine Classifier   0.4400998336106489\n",
            "Accuracy for BernoulliNB  0.42179700499168055\n",
            "Accuracy for MultinomialNB  0.44841930116472545\n"
          ]
        }
      ]
    },
    {
      "cell_type": "code",
      "source": [
        "#Using TF Idf\n",
        "\n",
        "\n",
        "from sklearn.feature_extraction.text import TfidfVectorizer\n",
        "tfidf = TfidfVectorizer()\n",
        "x_train_tfidf = cv.fit_transform(x_train['Description']).toarray()\n",
        "x_test_tfidf = cv.transform(x_test['Description']).toarray()\n",
        "\n",
        "\n",
        "# using Randomforest\n",
        "Random_Forest_Classifier_Custom(x_train_tfidf,x_test_tfidf,y_train,y_test)\n",
        "\n",
        "#using GaussianNB\n",
        "GaussianNB_Custom(x_train_tfidf,x_test_tfidf,y_train,y_test)\n",
        "\n",
        "#using K-Nearest Neighbors Clasifier\n",
        "K_Nearest_Neighbors_Clasifier_Custom(x_train_bow,x_test_tfidf,y_train,y_test)\n",
        "\n",
        "# using Support_Vector_Machine_Classifier\n",
        "Support_Vector_Machine_Classifier(x_train_tfidf,x_test_tfidf,y_train,y_test)\n",
        "\n",
        "# using BernoulliNB\n",
        "BernoulliNB_Custom(x_train_tfidf,x_test_tfidf,y_train,y_test)\n",
        "\n",
        "#using MultinomialNB\n",
        "MultinomialNB_Custom(x_train_tfidf,x_test_tfidf,y_train,y_test)\n",
        "\n",
        "# #using Logistic Regression\n",
        "# LogisticRegression_Custom(x_train_tfidf,x_test_tfidf,y_train,y_test)"
      ],
      "metadata": {
        "colab": {
          "base_uri": "https://localhost:8080/"
        },
        "id": "wc3SuOO1pmC_",
        "outputId": "c2755403-1063-49c0-9618-806cbf280551"
      },
      "execution_count": null,
      "outputs": [
        {
          "output_type": "stream",
          "name": "stdout",
          "text": [
            "Accuracy for Random forest  0.47587354409317806\n",
            "Accuracy for Gausssian NB 0.32029950083194675\n",
            "Accuracy for K-Nearest Neighbors Clasifier  0.3036605657237937\n",
            "Accuracy for Support vector machine Classifier   0.4400998336106489\n",
            "Accuracy for BernoulliNB  0.42179700499168055\n",
            "Accuracy for MultinomialNB  0.44841930116472545\n"
          ]
        }
      ]
    },
    {
      "cell_type": "markdown",
      "source": [
        "**Using Word2Vec**"
      ],
      "metadata": {
        "id": "NidRD35aiN-n"
      }
    },
    {
      "cell_type": "code",
      "source": [
        "import gensim\n",
        "from nltk import sent_tokenize\n",
        "from gensim.utils import simple_preprocess\n",
        "import nltk\n",
        "nltk.download('punkt')"
      ],
      "metadata": {
        "colab": {
          "base_uri": "https://localhost:8080/"
        },
        "id": "qHwH4alfiQqF",
        "outputId": "eba98500-f435-42f5-e885-8d5e66a8eff5"
      },
      "execution_count": null,
      "outputs": [
        {
          "output_type": "stream",
          "name": "stderr",
          "text": [
            "[nltk_data] Downloading package punkt to /root/nltk_data...\n",
            "[nltk_data]   Unzipping tokenizers/punkt.zip.\n"
          ]
        },
        {
          "output_type": "execute_result",
          "data": {
            "text/plain": [
              "True"
            ]
          },
          "metadata": {},
          "execution_count": 27
        }
      ]
    },
    {
      "cell_type": "code",
      "source": [
        "story = []\n",
        "for doc in df['Description']:\n",
        "  raw_sent = sent_tokenize(doc)\n",
        "  for sent in raw_sent:\n",
        "    story.append(simple_preprocess(sent))"
      ],
      "metadata": {
        "id": "vl8LBMi9imaR"
      },
      "execution_count": null,
      "outputs": []
    },
    {
      "cell_type": "code",
      "source": [
        "model = gensim.models.Word2Vec(\n",
        "    window = 10,\n",
        "    min_count = 2\n",
        ")"
      ],
      "metadata": {
        "id": "1EHAYVZxi12_"
      },
      "execution_count": null,
      "outputs": []
    },
    {
      "cell_type": "code",
      "source": [
        "model.build_vocab(story)"
      ],
      "metadata": {
        "id": "b0ODwyd7jLK6"
      },
      "execution_count": null,
      "outputs": []
    },
    {
      "cell_type": "code",
      "source": [
        "model.train(story,total_examples=model.corpus_count,epochs = model.epochs)"
      ],
      "metadata": {
        "colab": {
          "base_uri": "https://localhost:8080/"
        },
        "id": "7594JpGLjUPX",
        "outputId": "0a8099c6-b2bd-4f7d-cad8-5c0c3b8e0fad"
      },
      "execution_count": null,
      "outputs": [
        {
          "output_type": "execute_result",
          "data": {
            "text/plain": [
              "(203156, 297430)"
            ]
          },
          "metadata": {},
          "execution_count": 31
        }
      ]
    },
    {
      "cell_type": "code",
      "source": [
        "len(model.wv.index_to_key)"
      ],
      "metadata": {
        "colab": {
          "base_uri": "https://localhost:8080/"
        },
        "id": "t0Cx8DYIji9G",
        "outputId": "a0f0d2eb-7b5d-462c-c67a-0724c64b2ab2"
      },
      "execution_count": null,
      "outputs": [
        {
          "output_type": "execute_result",
          "data": {
            "text/plain": [
              "1659"
            ]
          },
          "metadata": {},
          "execution_count": 32
        }
      ]
    },
    {
      "cell_type": "code",
      "source": [
        "# def document_vector(doc):\n",
        "#   # remove out-of-vocabulary words\n",
        "#   doc = [word for word in doc.split() if word in model.wv.index_to_key]\n",
        "#   return np.mean(model.wv[doc], axis=0)\n",
        "def document_vector(doc):\n",
        "    doc_vector = [model[word] for word in doc if word in model.wv]\n",
        "    if len(doc_vector) > 0:\n",
        "        return np.mean(doc_vector, axis=0)\n",
        "    else:\n",
        "        # Return a default vector representation if doc_vector is empty\n",
        "        return np.zeros(model.vector_size)"
      ],
      "metadata": {
        "id": "6-k3nYpejmv5"
      },
      "execution_count": null,
      "outputs": []
    },
    {
      "cell_type": "code",
      "source": [
        "document_vector(df['Description'].values[199])\n"
      ],
      "metadata": {
        "colab": {
          "base_uri": "https://localhost:8080/"
        },
        "id": "PdNqsEOgjql1",
        "outputId": "109459b2-7b6b-45b6-8f86-2bc59286af1f"
      },
      "execution_count": null,
      "outputs": [
        {
          "output_type": "execute_result",
          "data": {
            "text/plain": [
              "array([0., 0., 0., 0., 0., 0., 0., 0., 0., 0., 0., 0., 0., 0., 0., 0., 0.,\n",
              "       0., 0., 0., 0., 0., 0., 0., 0., 0., 0., 0., 0., 0., 0., 0., 0., 0.,\n",
              "       0., 0., 0., 0., 0., 0., 0., 0., 0., 0., 0., 0., 0., 0., 0., 0., 0.,\n",
              "       0., 0., 0., 0., 0., 0., 0., 0., 0., 0., 0., 0., 0., 0., 0., 0., 0.,\n",
              "       0., 0., 0., 0., 0., 0., 0., 0., 0., 0., 0., 0., 0., 0., 0., 0., 0.,\n",
              "       0., 0., 0., 0., 0., 0., 0., 0., 0., 0., 0., 0., 0., 0., 0.])"
            ]
          },
          "metadata": {},
          "execution_count": 34
        }
      ]
    },
    {
      "cell_type": "code",
      "source": [
        "from tqdm import tqdm\n"
      ],
      "metadata": {
        "id": "GT4ecxNIjyNP"
      },
      "execution_count": null,
      "outputs": []
    },
    {
      "cell_type": "code",
      "source": [
        "x = []\n",
        "for doc in tqdm(df['Description'].values):\n",
        "  x.append(document_vector(doc))"
      ],
      "metadata": {
        "colab": {
          "base_uri": "https://localhost:8080/"
        },
        "id": "xQmzbJhZj6kN",
        "outputId": "dc698b99-b6a0-4dca-e789-878717e88f68"
      },
      "execution_count": null,
      "outputs": [
        {
          "output_type": "stream",
          "name": "stderr",
          "text": [
            "100%|██████████| 6010/6010 [00:00<00:00, 9451.32it/s] \n"
          ]
        }
      ]
    },
    {
      "cell_type": "code",
      "source": [
        "from sklearn.preprocessing import LabelEncoder\n",
        "encoder = LabelEncoder()\n",
        "\n",
        "y = encoder.fit_transform(df['Label'])\n",
        "y"
      ],
      "metadata": {
        "colab": {
          "base_uri": "https://localhost:8080/"
        },
        "id": "59rCdqlGlhyc",
        "outputId": "fad937ba-999c-44f1-bd0e-7bae13fd640a"
      },
      "execution_count": null,
      "outputs": [
        {
          "output_type": "execute_result",
          "data": {
            "text/plain": [
              "array([3, 3, 3, ..., 0, 0, 0])"
            ]
          },
          "metadata": {},
          "execution_count": 37
        }
      ]
    },
    {
      "cell_type": "code",
      "source": [
        "from sklearn.model_selection import train_test_split\n",
        "x_train_w2v,x_test_w2v,y_train,y_test = train_test_split(x,y,test_size=0.2,random_state=1)"
      ],
      "metadata": {
        "id": "3aDIUfQIlnfp"
      },
      "execution_count": null,
      "outputs": []
    },
    {
      "cell_type": "code",
      "source": [
        "# using Randomforest\n",
        "Random_Forest_Classifier_Custom(x_train_w2v,x_test_w2v,y_train,y_test)\n",
        "\n",
        "#using GaussianNB\n",
        "GaussianNB_Custom(x_train_w2v,x_test_w2v,y_train,y_test)\n",
        "\n",
        "#using K-Nearest Neighbors Clasifier\n",
        "K_Nearest_Neighbors_Clasifier_Custom(x_train_w2v,x_test_w2v,y_train,y_test)\n",
        "\n",
        "# using Support_Vector_Machine_Classifier\n",
        "Support_Vector_Machine_Classifier(x_train_w2v,x_test_w2v,y_train,y_test)\n",
        "\n",
        "# using BernoulliNB\n",
        "BernoulliNB_Custom(x_train_w2v,x_test_w2v,y_train,y_test)\n",
        "\n",
        "#using MultinomialNB\n",
        "MultinomialNB_Custom(x_train_w2v,x_test_w2v,y_train,y_test)"
      ],
      "metadata": {
        "colab": {
          "base_uri": "https://localhost:8080/"
        },
        "id": "lg2JeDRElq6E",
        "outputId": "4e0572ce-c354-445d-b313-c7476d2fb2eb"
      },
      "execution_count": null,
      "outputs": [
        {
          "output_type": "stream",
          "name": "stdout",
          "text": [
            "Accuracy for Random forest  0.19800332778702162\n",
            "Accuracy for Gausssian NB 0.19217970049916805\n",
            "Accuracy for K-Nearest Neighbors Clasifier  0.19883527454242927\n"
          ]
        },
        {
          "output_type": "stream",
          "name": "stderr",
          "text": [
            "/usr/local/lib/python3.10/dist-packages/sklearn/naive_bayes.py:515: RuntimeWarning: divide by zero encountered in log\n",
            "  n_ij = -0.5 * np.sum(np.log(2.0 * np.pi * self.var_[i, :]))\n",
            "/usr/local/lib/python3.10/dist-packages/sklearn/naive_bayes.py:516: RuntimeWarning: invalid value encountered in true_divide\n",
            "  n_ij -= 0.5 * np.sum(((X - self.theta_[i, :]) ** 2) / (self.var_[i, :]), 1)\n"
          ]
        },
        {
          "output_type": "stream",
          "name": "stdout",
          "text": [
            "Accuracy for Support vector machine Classifier   0.19217970049916805\n",
            "Accuracy for BernoulliNB  0.19217970049916805\n",
            "Accuracy for MultinomialNB  0.19217970049916805\n"
          ]
        }
      ]
    }
  ]
}