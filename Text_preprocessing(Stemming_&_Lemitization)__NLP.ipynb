{
  "nbformat": 4,
  "nbformat_minor": 0,
  "metadata": {
    "colab": {
      "provenance": [],
      "authorship_tag": "ABX9TyMkQez8rkRjKavw7u5b4Gry",
      "include_colab_link": true
    },
    "kernelspec": {
      "name": "python3",
      "display_name": "Python 3"
    },
    "language_info": {
      "name": "python"
    }
  },
  "cells": [
    {
      "cell_type": "markdown",
      "metadata": {
        "id": "view-in-github",
        "colab_type": "text"
      },
      "source": [
        "<a href=\"https://colab.research.google.com/github/Sa-Fi/Natural-Language-Processing/blob/main/Text_preprocessing(Stemming_%26_Lemitization)__NLP.ipynb\" target=\"_parent\"><img src=\"https://colab.research.google.com/assets/colab-badge.svg\" alt=\"Open In Colab\"/></a>"
      ]
    },
    {
      "cell_type": "markdown",
      "source": [
        "Stemmning .."
      ],
      "metadata": {
        "id": "KeximtspJXcp"
      }
    },
    {
      "cell_type": "code",
      "execution_count": null,
      "metadata": {
        "id": "nV29kIyurYuq"
      },
      "outputs": [],
      "source": [
        "from nltk.stem.porter import PorterStemmer"
      ]
    },
    {
      "cell_type": "code",
      "source": [
        "ps = PorterStemmer()\n",
        "def stem_word(text):\n",
        "  return \" \".join([ps.stem(word) for word in text.split()])"
      ],
      "metadata": {
        "id": "zIGexskjJW6k"
      },
      "execution_count": null,
      "outputs": []
    },
    {
      "cell_type": "code",
      "source": [
        "sample = \"walk walks walking walked\"\n",
        "stem_word(sample)"
      ],
      "metadata": {
        "colab": {
          "base_uri": "https://localhost:8080/",
          "height": 35
        },
        "id": "CxlGTzT1J4zt",
        "outputId": "612ce921-0cb0-44ed-ef01-bce58c3c6cec"
      },
      "execution_count": null,
      "outputs": [
        {
          "output_type": "execute_result",
          "data": {
            "text/plain": [
              "'walk walk walk walk'"
            ],
            "application/vnd.google.colaboratory.intrinsic+json": {
              "type": "string"
            }
          },
          "metadata": {},
          "execution_count": 3
        }
      ]
    },
    {
      "cell_type": "code",
      "source": [
        "text=\"\"\"\"“Business Analytics” and “Data Science” – these two terms are used interchangeably wherever I look. But there’s one indisputable fact – both industries are undergoing skyrocket growth.\"\"\"\n",
        "text"
      ],
      "metadata": {
        "colab": {
          "base_uri": "https://localhost:8080/",
          "height": 53
        },
        "id": "pywGLkg4J_A6",
        "outputId": "fc8a5fa8-2d4c-47d9-916f-4f1a58f83bf7"
      },
      "execution_count": null,
      "outputs": [
        {
          "output_type": "execute_result",
          "data": {
            "text/plain": [
              "'\"“Business Analytics” and “Data Science” – these two terms are used interchangeably wherever I look. But there’s one indisputable fact – both industries are undergoing skyrocket growth.'"
            ],
            "application/vnd.google.colaboratory.intrinsic+json": {
              "type": "string"
            }
          },
          "metadata": {},
          "execution_count": 5
        }
      ]
    },
    {
      "cell_type": "code",
      "source": [
        "stem_word(text)"
      ],
      "metadata": {
        "colab": {
          "base_uri": "https://localhost:8080/",
          "height": 53
        },
        "id": "rZGxljoyKTMJ",
        "outputId": "e1cd5cd7-121e-4c83-b7e8-f146e8a76374"
      },
      "execution_count": null,
      "outputs": [
        {
          "output_type": "execute_result",
          "data": {
            "text/plain": [
              "'\"“busi analytics” and “data science” – these two term are use interchang wherev i look. but there’ one indisput fact – both industri are undergo skyrocket growth.'"
            ],
            "application/vnd.google.colaboratory.intrinsic+json": {
              "type": "string"
            }
          },
          "metadata": {},
          "execution_count": 17
        }
      ]
    },
    {
      "cell_type": "markdown",
      "source": [
        "Lemmization"
      ],
      "metadata": {
        "id": "zLUVmdUzL9rT"
      }
    },
    {
      "cell_type": "code",
      "source": [
        " from nltk.stem import WordNetLemmatizer\n"
      ],
      "metadata": {
        "id": "ehd_KfCyMALp"
      },
      "execution_count": null,
      "outputs": []
    },
    {
      "cell_type": "code",
      "source": [
        "import nltk"
      ],
      "metadata": {
        "id": "N0KLPzLrPnFF"
      },
      "execution_count": null,
      "outputs": []
    },
    {
      "cell_type": "code",
      "source": [
        "wordnet_lemmatizer = WordNetLemmatizer()\n",
        "\n",
        "puncuation = \"?!:.,;\"\n",
        "sentence_word = nltk.word_tokenize(text)\n",
        "for word in sentence_word:\n",
        "  if word in puncuation:\n",
        "    sentence_word.remove(word)\n",
        "\n",
        "sentence_word\n",
        "print(\"{0:20}{1:20}\".format(\"word\",\"lemma\"))\n",
        "for word in sentence_word:\n",
        "  print(\"{0:20}{1:20}\".format(word,wordnet_lemmatizer.lemmatize(word,pos=\"v\")))"
      ],
      "metadata": {
        "colab": {
          "base_uri": "https://localhost:8080/"
        },
        "id": "1RYUdpCSPBpC",
        "outputId": "c977b14b-fe73-4e5d-caa0-4ff2cfeede76"
      },
      "execution_count": null,
      "outputs": [
        {
          "output_type": "stream",
          "name": "stdout",
          "text": [
            "word                lemma               \n",
            "``                  ``                  \n",
            "“                   “                   \n",
            "Business            Business            \n",
            "Analytics           Analytics           \n",
            "”                   ”                   \n",
            "and                 and                 \n",
            "“                   “                   \n",
            "Data                Data                \n",
            "Science             Science             \n",
            "”                   ”                   \n",
            "–                   –                   \n",
            "these               these               \n",
            "two                 two                 \n",
            "terms               term                \n",
            "are                 be                  \n",
            "used                use                 \n",
            "interchangeably     interchangeably     \n",
            "wherever            wherever            \n",
            "I                   I                   \n",
            "look                look                \n",
            "But                 But                 \n",
            "there               there               \n",
            "’                   ’                   \n",
            "s                   s                   \n",
            "one                 one                 \n",
            "indisputable        indisputable        \n",
            "fact                fact                \n",
            "–                   –                   \n",
            "both                both                \n",
            "industries          industries          \n",
            "are                 be                  \n",
            "undergoing          undergo             \n",
            "skyrocket           skyrocket           \n",
            "growth              growth              \n"
          ]
        }
      ]
    },
    {
      "cell_type": "code",
      "source": [],
      "metadata": {
        "id": "vwGwG9LFQjEO"
      },
      "execution_count": null,
      "outputs": []
    }
  ]
}