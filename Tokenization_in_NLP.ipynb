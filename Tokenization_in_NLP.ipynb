{
  "nbformat": 4,
  "nbformat_minor": 0,
  "metadata": {
    "colab": {
      "provenance": [],
      "authorship_tag": "ABX9TyOqmUEiCPEvTZqYYVn7Zo3I",
      "include_colab_link": true
    },
    "kernelspec": {
      "name": "python3",
      "display_name": "Python 3"
    },
    "language_info": {
      "name": "python"
    }
  },
  "cells": [
    {
      "cell_type": "markdown",
      "metadata": {
        "id": "view-in-github",
        "colab_type": "text"
      },
      "source": [
        "<a href=\"https://colab.research.google.com/github/Sa-Fi/Natural-Language-Processing/blob/main/Tokenization_in_NLP.ipynb\" target=\"_parent\"><img src=\"https://colab.research.google.com/assets/colab-badge.svg\" alt=\"Open In Colab\"/></a>"
      ]
    },
    {
      "cell_type": "markdown",
      "source": [
        "**Tokenization**\n",
        "process of breaking the text document into small a part which is call token(word/sentence)"
      ],
      "metadata": {
        "id": "EiJCWbQYC5-9"
      }
    },
    {
      "cell_type": "markdown",
      "source": [
        "1. using the split function"
      ],
      "metadata": {
        "id": "GNNDPoNFC8Az"
      }
    },
    {
      "cell_type": "code",
      "execution_count": null,
      "metadata": {
        "colab": {
          "base_uri": "https://localhost:8080/"
        },
        "id": "pxi7tQnqC047",
        "outputId": "401754af-0b78-4cea-e589-0e37a8a12af9"
      },
      "outputs": [
        {
          "output_type": "execute_result",
          "data": {
            "text/plain": [
              "['i', 'am', 'going', 'to', 'ctg']"
            ]
          },
          "metadata": {},
          "execution_count": 1
        }
      ],
      "source": [
        " # word tokenization\n",
        " sent1 = \"i am going to ctg\"\n",
        " sent1.split()"
      ]
    },
    {
      "cell_type": "code",
      "source": [
        "# sentence tokenization\n",
        "sent2 = 'i am going to ctg. i will stay there 3 days. lets hope to trip to be great'\n",
        "sent2.split('.')"
      ],
      "metadata": {
        "colab": {
          "base_uri": "https://localhost:8080/"
        },
        "id": "48zrCvBjDHWs",
        "outputId": "161f5f58-20ca-4d7f-ca30-96d16f962f1d"
      },
      "execution_count": null,
      "outputs": [
        {
          "output_type": "execute_result",
          "data": {
            "text/plain": [
              "['i am going to ctg',\n",
              " ' i will stay there 3 days',\n",
              " ' lets hope to trip to be great']"
            ]
          },
          "metadata": {},
          "execution_count": 2
        }
      ]
    },
    {
      "cell_type": "code",
      "source": [
        "# problem with the split function\n",
        "sent3 = \"i am going to ctg!\"\n",
        "sent3.split('.')"
      ],
      "metadata": {
        "colab": {
          "base_uri": "https://localhost:8080/"
        },
        "id": "4ZQ5R0EzDYMv",
        "outputId": "ebff81f5-37ee-4a62-9358-9c275bbb7659"
      },
      "execution_count": null,
      "outputs": [
        {
          "output_type": "execute_result",
          "data": {
            "text/plain": [
              "['i am going to ctg!']"
            ]
          },
          "metadata": {},
          "execution_count": 5
        }
      ]
    },
    {
      "cell_type": "code",
      "source": [
        "sent4=\"where do think i would go? i ave 4 day holiday\"\n",
        "sent4.split('.')"
      ],
      "metadata": {
        "colab": {
          "base_uri": "https://localhost:8080/"
        },
        "id": "ZtaRO3VdDhQI",
        "outputId": "16f514de-8c21-4b8e-d270-b193b4f50d09"
      },
      "execution_count": null,
      "outputs": [
        {
          "output_type": "execute_result",
          "data": {
            "text/plain": [
              "['where do think i would go? i ave 4 day holiday']"
            ]
          },
          "metadata": {},
          "execution_count": 6
        }
      ]
    },
    {
      "cell_type": "markdown",
      "source": [
        "2. Regular Expression <br>\n",
        "A regular expression is a sequence of characters that define a search pattern.\n",
        "Using RegEx we can match character combinations in string and perform word/sentence tokenization.\n",
        "Please refer regex101 for testing your regular expression syntax.\n",
        "We can use Python's re library for RegeEx related operations.![image.png](data:image/png;base64,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)"
      ],
      "metadata": {
        "id": "1mGakQ0UD-of"
      }
    },
    {
      "cell_type": "code",
      "source": [
        "# word tokenizaton\n",
        "import re\n",
        "\n",
        "text = \"\"\"There are multiple ways we can perform tokenization on given text data. We can choose any method based on langauge, library and purpose of modeling.\"\"\"\n",
        "tokens = re.findall(\"[\\w]+\", text)\n",
        "print(tokens)"
      ],
      "metadata": {
        "colab": {
          "base_uri": "https://localhost:8080/"
        },
        "id": "KvRejEVsD5y0",
        "outputId": "480270b3-4384-4f33-879f-6234eb4ea5ed"
      },
      "execution_count": null,
      "outputs": [
        {
          "output_type": "stream",
          "name": "stdout",
          "text": [
            "['There', 'are', 'multiple', 'ways', 'we', 'can', 'perform', 'tokenization', 'on', 'given', 'text', 'data', 'We', 'can', 'choose', 'any', 'method', 'based', 'on', 'langauge', 'library', 'and', 'purpose', 'of', 'modeling']\n"
          ]
        }
      ]
    },
    {
      "cell_type": "code",
      "source": [
        "# sentence tokenization\n",
        "text = \"\"\"Characters like periods, exclamation point and newline char are used to separate the sentences. But one drawback with split() method, that we can only use one separator at a time! So sentence tonenization wont be foolproof with split() method.\"\"\"\n",
        "tokens_sent = re.compile('[.!?] ').split(text) # Using compile method to combine RegEx patterns\n",
        "tokens_sent"
      ],
      "metadata": {
        "colab": {
          "base_uri": "https://localhost:8080/"
        },
        "id": "faGk7wgREUwA",
        "outputId": "d80ff1d7-7752-429c-9c56-43bfae00097c"
      },
      "execution_count": null,
      "outputs": [
        {
          "output_type": "execute_result",
          "data": {
            "text/plain": [
              "['Characters like periods, exclamation point and newline char are used to separate the sentences',\n",
              " 'But one drawback with split() method, that we can only use one separator at a time',\n",
              " 'So sentence tonenization wont be foolproof with split() method.']"
            ]
          },
          "metadata": {},
          "execution_count": 8
        }
      ]
    },
    {
      "cell_type": "markdown",
      "source": [
        "3.Tokenization Using NLTK<br>\n",
        "Natural Language Toolkit (NLTK) is library written in python for natural language processing.\n",
        "NLTK has module word_tokenize() for word tokenization and sent_tokenize() for sentence tokenization.\n",
        "Syntax to install NLTK is as below\n",
        "!pip install --user -U nltk"
      ],
      "metadata": {
        "id": "znRg39mnGgOF"
      }
    },
    {
      "cell_type": "code",
      "source": [
        "import nltk\n",
        "nltk.download('punkt')\n",
        "nltk.download('wordnet')\n",
        "#nltk.download('omw-1.4'*)"
      ],
      "metadata": {
        "colab": {
          "base_uri": "https://localhost:8080/"
        },
        "id": "HQxTuKjWGwkk",
        "outputId": "d83e3726-bea2-46c9-9846-c54b3d4c2279"
      },
      "execution_count": null,
      "outputs": [
        {
          "output_type": "stream",
          "name": "stderr",
          "text": [
            "[nltk_data] Downloading package punkt to /root/nltk_data...\n",
            "[nltk_data]   Unzipping tokenizers/punkt.zip.\n",
            "[nltk_data] Downloading package wordnet to /root/nltk_data...\n"
          ]
        },
        {
          "output_type": "execute_result",
          "data": {
            "text/plain": [
              "True"
            ]
          },
          "metadata": {},
          "execution_count": 22
        }
      ]
    },
    {
      "cell_type": "code",
      "source": [
        "# word tokenize\n",
        "from nltk.tokenize import word_tokenize\n",
        "\n",
        "text = \"\"\"There are multiple ways we can perform tokenization on given text data. We can choose any method based on langauge, library and purpose of modeling.\"\"\"\n",
        "tokens = word_tokenize(text)\n",
        "print(tokens)"
      ],
      "metadata": {
        "colab": {
          "base_uri": "https://localhost:8080/"
        },
        "id": "aYia67jaEbmg",
        "outputId": "b76966f7-f132-471e-c349-4da23d1c1838"
      },
      "execution_count": null,
      "outputs": [
        {
          "output_type": "stream",
          "name": "stdout",
          "text": [
            "['There', 'are', 'multiple', 'ways', 'we', 'can', 'perform', 'tokenization', 'on', 'given', 'text', 'data', '.', 'We', 'can', 'choose', 'any', 'method', 'based', 'on', 'langauge', ',', 'library', 'and', 'purpose', 'of', 'modeling', '.']\n"
          ]
        }
      ]
    },
    {
      "cell_type": "code",
      "source": [
        "# sentence tokenization\n",
        "from nltk.tokenize import sent_tokenize\n",
        "\n",
        "text = \"\"\"Characters like periods, exclamation point and newline char are used to separate the sentences. But one drawback with split() method, that we can only use one separator at a time! So sentence tonenization wont be foolproof with split() method.\"\"\"\n",
        "sent_tokenize(text)"
      ],
      "metadata": {
        "colab": {
          "base_uri": "https://localhost:8080/"
        },
        "id": "5lQMGx_qIIXk",
        "outputId": "1ab1e167-f654-4270-8148-79199fdc9255"
      },
      "execution_count": null,
      "outputs": [
        {
          "output_type": "execute_result",
          "data": {
            "text/plain": [
              "['Characters like periods, exclamation point and newline char are used to separate the sentences.',\n",
              " 'But one drawback with split() method, that we can only use one separator at a time!',\n",
              " 'So sentence tonenization wont be foolproof with split() method.']"
            ]
          },
          "metadata": {},
          "execution_count": 24
        }
      ]
    },
    {
      "cell_type": "markdown",
      "source": [
        "4.spaCy <br>\n",
        "\n",
        "spaCy is an open-source software library for advanced natural language processing, written in the programming languages Python and Cython\n",
        "in spaCy we create language model object, which then used for word and sentence tokenization\n",
        "Syntax to install spaCy library and English model is as below\n",
        "!pip install spacy\n",
        "!python -m spacy download en"
      ],
      "metadata": {
        "id": "hxv1sNUfIRZn"
      }
    },
    {
      "cell_type": "code",
      "source": [
        "!pip install spacy\n",
        "!python -m spacy download en"
      ],
      "metadata": {
        "id": "nIxTucXQILkP"
      },
      "execution_count": null,
      "outputs": []
    },
    {
      "cell_type": "code",
      "source": [
        "# word Tokenization\n",
        "# Load English model from spacy\n",
        "from spacy.lang.en import English\n",
        "\n",
        "# Load English tokenizer.\n",
        "# nlp object will be used to create 'doc' object which uses preprecoessing pipeline's components such as tagger, parser, NER and word vectors\n",
        "nlp = English()\n",
        "\n",
        "text = \"\"\"There are multiple ways we can perform tokenization on given text data. We can choose any method based on langauge, library and purpose of modeling.\"\"\"\n",
        "\n",
        "# Now we will process above text using 'nlp' object. Which is use to create documents with linguistic annotations and various nlp properties\n",
        "my_doc = nlp(text)\n",
        "\n",
        "# Above step has already tokenized our text but its in doc format, so lets write fo loop to create list of it\n",
        "token_list = []\n",
        "for token in my_doc:\n",
        "    token_list.append(token.text)\n",
        "\n",
        "print(token_list)"
      ],
      "metadata": {
        "colab": {
          "base_uri": "https://localhost:8080/"
        },
        "id": "33Zxeer1IqqU",
        "outputId": "691ecf80-5032-45e7-e4ec-9dc0628c9a18"
      },
      "execution_count": null,
      "outputs": [
        {
          "output_type": "stream",
          "name": "stdout",
          "text": [
            "['There', 'are', 'multiple', 'ways', 'we', 'can', 'perform', 'tokenization', 'on', 'given', 'text', 'data', '.', 'We', 'can', 'choose', 'any', 'method', 'based', 'on', 'langauge', ',', 'library', 'and', 'purpose', 'of', 'modeling', '.']\n"
          ]
        }
      ]
    },
    {
      "cell_type": "code",
      "source": [
        "# sentence tokenization\n",
        "nlp = English()\n",
        "\n",
        "# Create the pipeline 'sentencizer' component\n",
        "sbd = nlp.create_pipe('entity_ruler')\n",
        "\n",
        "# Add component to the pipeline\n",
        "nlp.add_pipe(sbd)\n",
        "\n",
        "text = \"\"\"Characters like periods, exclamation point and newline char are used to separate the sentences. But one drawback with split() method, that we can only use one separator at a time! So sentence tonenization wont be foolproof with split() method.\"\"\"\n",
        "\n",
        "# nlp object is used to create documents with linguistic annotations\n",
        "doc = nlp(text)\n",
        "\n",
        "# Create list of sentence tokens\n",
        "\n",
        "sentence_list =[]\n",
        "for sentence in doc.sents:\n",
        "    sentence_list.append(sentence.text)\n",
        "print(sentence_list)"
      ],
      "metadata": {
        "id": "iVYu7R3BI19J"
      },
      "execution_count": null,
      "outputs": []
    },
    {
      "cell_type": "code",
      "source": [],
      "metadata": {
        "id": "xRohNXQHI_lo"
      },
      "execution_count": null,
      "outputs": []
    }
  ]
}